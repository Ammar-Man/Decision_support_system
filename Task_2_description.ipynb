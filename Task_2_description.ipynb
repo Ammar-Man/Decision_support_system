{
 "cells": [
  {
   "cell_type": "markdown",
   "id": "4678b176",
   "metadata": {},
   "source": [
    "# Uppgift 02\n",
    "\n",
    "Det är fritt fram att använda externa bibliotek i uppgiften.\n",
    "Vänligen lämna in uppgiften som en Python notebook ```02_[förnamn]_[efternamn].ipynb```, ersätt med egna namn; Använda ```02_[person01]_[person02].ipynb```, ifall ni lämnar in som par.\n",
    "\n",
    "\n",
    "## Part 1\n",
    "\n",
    "- Bygg ett beslutsträd för HR som stödjer applikations filtrering.\n",
    "- Använda historiska data som finns i ```hr_train_1.csv```\n",
    "- Beslutsträdet skall sätta flaggan ```‘ignore’:True``` på sökande som inte är intressanta för HR avdelning.\n",
    "    - Ni kan börja utifrån koden nedan, eller från koden i ```Data Science from Scratch``` som finns tillgänglig på: [Google Colab](https://colab.research.google.com/drive/1aNHPiVqt9FGmDSeeeQnr7vImMHYzyWBK?usp=sharing) alternativt [Github](https://github.com/joelgrus/data-science-from-scratch/blob/master/scratch/decision_trees.py)\n",
    "\n",
    "- Testa ert beslutsträd på följande fyra personer och presentera resultaten.\n",
    "\n",
    "| Experience | Programming | Tweets | PhD |\n",
    "|:-----:|:-----:|:---:|:---:|\n",
    "| Senior | Java | with tweets  | no PhD  |\n",
    "| Senior | Python | no tweets | with PhD |\n",
    "| Mid | Java | with tweets | no PhD |\n",
    "| Junior | Python | with tweets | no PhD |\n",
    "\n",
    "\n",
    "## Part 2\n",
    "**Utforska** reglerna för beslutsträdet ni skapat.\n",
    "\n",
    "Motivera era insikter för HR avdelningen.\n",
    "\n",
    "*Ni kan till exempel hitta följande:*\n",
    "- Hur många resultat finns det totalt med den data som nu finns?\n",
    "- Vilken är den *kortaste* vägen för beslutsträdet att acceptera/avböja en sökande\n",
    "- Finns det trender eller fördelar som en sökande kan ha i ert beslutsträd?\n",
    "    - *Tips: Använd datautforskning (EDA) och hitta sedan insikter!*\n",
    "\n",
    "\n",
    "## Part 3\n",
    "*Föreställ er nu att HR avdelningen börjat samla mer data i form av sökandes kön. Lägg till kolumnen ```gender``` i er data och fyll det med slumpmässiga värden (0, 1, 2). Hur kan du tillverka ett test som demonstrerar att ditt beslutsträd är partiskt och att ca 2/3 av alla med kön ```2``` kommer bli flaggade för ```‘ignore’:True```. Visa denna partiskhet för HR avdelningen och förklara för eller emot den*\n",
    "\n",
    "- Lägg till kolumnen ```gender``` i er data och fyll den med slumpmässiga värden\n",
    "- Bevisa att två tredjedelar av kön(*gender*) ```2``` kommer bli flaggade med ```‘ignore’:True``` i ditt test.\n",
    "- Kan du förklara eller motförklara detta med hjälp av data utforskning och motivera ditt svar mot HR avdelningen\n",
    "    - *Tips: Prova dela upp din data i test/train (20%/80%)*"
   ]
  }
 ],
 "metadata": {
  "kernelspec": {
   "display_name": "Python 3 (ipykernel)",
   "language": "python",
   "name": "python3"
  },
  "language_info": {
   "codemirror_mode": {
    "name": "ipython",
    "version": 3
   },
   "file_extension": ".py",
   "mimetype": "text/x-python",
   "name": "python",
   "nbconvert_exporter": "python",
   "pygments_lexer": "ipython3",
   "version": "3.10.0"
  }
 },
 "nbformat": 4,
 "nbformat_minor": 5
}
