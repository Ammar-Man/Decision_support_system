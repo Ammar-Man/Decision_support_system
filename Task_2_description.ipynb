{
 "cells": [
  {
   "cell_type": "markdown",
   "id": "4678b176",
   "metadata": {},
   "source": [
    "# Uppgift 02\n",
    "\n",
    "Det är fritt fram att använda externa bibliotek i uppgiften.\n",
    "Vänligen lämna in uppgiften som en Python notebook ```02_[förnamn]_[efternamn].ipynb```, ersätt med egna namn; Använda ```02_[person01]_[person02].ipynb```, ifall ni lämnar in som par.\n",
    "\n",
    "\n",
    "## Part 1\n",
    "\n",
    "- Bygg ett beslutsträd för HR som stödjer applikations filtrering.\n",
    "- Använda historiska data som finns i ```hr_train_1.csv```\n",
    "- Beslutsträdet skall sätta flaggan ```‘ignore’:True``` på sökande som inte är intressanta för HR avdelning.\n",
    "    - Ni kan börja utifrån koden nedan, eller från koden i ```Data Science from Scratch``` som finns tillgänglig på: [Google Colab](https://colab.research.google.com/drive/1aNHPiVqt9FGmDSeeeQnr7vImMHYzyWBK?usp=sharing) alternativt [Github](https://github.com/joelgrus/data-science-from-scratch/blob/master/scratch/decision_trees.py)\n",
    "\n",
    "- Testa ert beslutsträd på följande fyra personer och presentera resultaten.\n",
    "\n",
    "| Experience | Programming | Tweets | PhD |\n",
    "|:-----:|:-----:|:---:|:---:|\n",
    "| Senior | Java | with tweets  | no PhD  |\n",
    "| Senior | Python | no tweets | with PhD |\n",
    "| Mid | Java | with tweets | no PhD |\n",
    "| Junior | Python | with tweets | no PhD |\n",
    "\n",
    "\n",
    "## Part 2\n",
    "**Utforska** reglerna för beslutsträdet ni skapat.\n",
    "\n",
    "Motivera era insikter för HR avdelningen.\n",
    "\n",
    "*Ni kan till exempel hitta följande:*\n",
    "- Hur många resultat finns det totalt med den data som nu finns?\n",
    "- Vilken är den *kortaste* vägen för beslutsträdet att acceptera/avböja en sökande\n",
    "- Finns det trender eller fördelar som en sökande kan ha i ert beslutsträd?\n",
    "    - *Tips: Använd datautforskning (EDA) och hitta sedan insikter!*\n",
    "\n",
    "\n",
    "## Part 3\n",
    "*Föreställ er nu att HR avdelningen börjat samla mer data i form av sökandes kön. Lägg till kolumnen ```gender``` i er data och fyll det med slumpmässiga värden (0, 1, 2). Hur kan du tillverka ett test som demonstrerar att ditt beslutsträd är partiskt och att ca 2/3 av alla med kön ```2``` kommer bli flaggade för ```‘ignore’:True```. Visa denna partiskhet för HR avdelningen och förklara för eller emot den*\n",
    "\n",
    "- Lägg till kolumnen ```gender``` i er data och fyll den med slumpmässiga värden\n",
    "- Bevisa att två tredjedelar av kön(*gender*) ```2``` kommer bli flaggade med ```‘ignore’:True``` i ditt test.\n",
    "- Kan du förklara eller motförklara detta med hjälp av data utforskning och motivera ditt svar mot HR avdelningen\n",
    "    - *Tips: Prova dela upp din data i test/train (20%/80%)*"
   ]
  },
  {
   "cell_type": "code",
   "execution_count": 1,
   "id": "8eb7b13d",
   "metadata": {},
   "outputs": [],
   "source": [
    "# imports\n",
    "import pandas\n",
    "from sklearn import tree\n",
    "from sklearn.tree import DecisionTreeClassifier\n",
    "import matplotlib.pyplot as plt"
   ]
  },
  {
   "cell_type": "code",
   "execution_count": 2,
   "id": "fb5e9d05",
   "metadata": {},
   "outputs": [],
   "source": [
    "# # Modiferat exempel från w3\n",
    "# # https://www.w3schools.com/python/python_ml_decision_tree.asp\n",
    "\n",
    "# eggs = [\n",
    "#  {\"Age\": 36,\"Experience\": 10,\"Rank\": 9,\"Nationality\": \"UK\",\"Go\": \"NO\"},\n",
    "#  {\"Age\": 42,\"Experience\": 12,\"Rank\": 4,\"Nationality\": \"USA\",\"Go\": \"NO\"},\n",
    "#  {\"Age\": 23,\"Experience\": 4,\"Rank\": 6,\"Nationality\": \"N\",\"Go\": \"NO\"},\n",
    "#  {\"Age\": 52,\"Experience\": 4,\"Rank\": 4,\"Nationality\": \"USA\",\"Go\": \"NO\"}\n",
    "# ]\n",
    "\n",
    "# ham = pandas.DataFrame.from_dict(eggs)\n",
    "\n",
    "# spam = {'UK': 0, 'USA': 1, 'N': 2}\n",
    "# ham['Nationality'] = ham['Nationality'].map(spam)\n",
    "# spam = {'YES': 1, 'NO': 0}\n",
    "# ham['Go'] = ham['Go'].map(spam)\n",
    "\n",
    "# features = ['Age', 'Experience', 'Rank', 'Nationality']\n",
    "\n",
    "# X = ham[features]\n",
    "# y = ham['Go']\n",
    "\n",
    "# dtree = DecisionTreeClassifier()\n",
    "# dtree = dtree.fit(X, y)\n",
    "\n",
    "# tree.plot_tree(dtree, feature_names=features) "
   ]
  },
  {
   "cell_type": "code",
   "execution_count": 3,
   "id": "24eb9544",
   "metadata": {},
   "outputs": [],
   "source": [
    "# Din kod här:\n",
    "## Du kan referea till koden ovan, eller ta bort den\n",
    "## Tips: Börja med att läsa in rätt data från .csv filen"
   ]
  },
  {
   "cell_type": "code",
   "execution_count": 4,
   "id": "72b1916d",
   "metadata": {},
   "outputs": [],
   "source": [
    "import numpy as np # linear algebra\n",
    "import pandas as pd # data processing, CSV file I/O (e.g. pd.read_csv)\n",
    "import matplotlib as mpl\n",
    "import matplotlib.pyplot as plt   # data visualization\n",
    "import sys\n",
    "import matplotlib\n",
    "matplotlib.use('Agg')\n",
    "import pandas as pd\n",
    "from sklearn.tree import DecisionTreeClassifier\n",
    "import matplotlib.pyplot as plt"
   ]
  },
  {
   "cell_type": "code",
   "execution_count": 5,
   "id": "01a26fab",
   "metadata": {},
   "outputs": [
    {
     "data": {
      "text/html": [
       "<div>\n",
       "<style scoped>\n",
       "    .dataframe tbody tr th:only-of-type {\n",
       "        vertical-align: middle;\n",
       "    }\n",
       "\n",
       "    .dataframe tbody tr th {\n",
       "        vertical-align: top;\n",
       "    }\n",
       "\n",
       "    .dataframe thead th {\n",
       "        text-align: right;\n",
       "    }\n",
       "</style>\n",
       "<table border=\"1\" class=\"dataframe\">\n",
       "  <thead>\n",
       "    <tr style=\"text-align: right;\">\n",
       "      <th></th>\n",
       "      <th>level</th>\n",
       "      <th>lang</th>\n",
       "      <th>tweets</th>\n",
       "      <th>phd</th>\n",
       "      <th>ignore</th>\n",
       "    </tr>\n",
       "  </thead>\n",
       "  <tbody>\n",
       "    <tr>\n",
       "      <th>0</th>\n",
       "      <td>Senior</td>\n",
       "      <td>Java</td>\n",
       "      <td>no</td>\n",
       "      <td>no</td>\n",
       "      <td>True</td>\n",
       "    </tr>\n",
       "  </tbody>\n",
       "</table>\n",
       "</div>"
      ],
      "text/plain": [
       "    level  lang tweets phd  ignore\n",
       "0  Senior  Java     no  no    True"
      ]
     },
     "execution_count": 5,
     "metadata": {},
     "output_type": "execute_result"
    }
   ],
   "source": [
    "df = pandas.read_csv(\"./hr_train_1.csv\")\n",
    "df.head(1)"
   ]
  },
  {
   "cell_type": "code",
   "execution_count": 6,
   "id": "be71727d",
   "metadata": {},
   "outputs": [
    {
     "name": "stdout",
     "output_type": "stream",
     "text": [
      "   level  lang  tweets  phd  ignore\n",
      "0      3     1       0    0     NaN\n"
     ]
    }
   ],
   "source": [
    "d = {'Senior': 3, 'Mid': 2, 'Junior': 2}\n",
    "df['level'] = df['level'].map(d)\n",
    "\n",
    "d = {'Java': 1, 'Python': 2, 'R': 3}\n",
    "df['lang'] = df['lang'].map(d)\n",
    "\n",
    "d = {'no': 0, 'yes': 1}\n",
    "df['tweets'] = df['tweets'].map(d)\n",
    "\n",
    "d = {'True': 1, 'False': 0}\n",
    "df['ignore'] = df['ignore'].map(d)\n",
    "\n",
    "d = {'no': 0, 'yes': 1}\n",
    "df['phd'] = df['phd'].map(d)\n",
    "\n",
    "print(df.head(1))"
   ]
  },
  {
   "cell_type": "code",
   "execution_count": 7,
   "id": "a07a4323",
   "metadata": {},
   "outputs": [],
   "source": [
    "features = ['level', 'lang', 'tweets', 'phd']\n",
    "X = df[features]\n",
    "y = df['phd']"
   ]
  },
  {
   "cell_type": "code",
   "execution_count": 8,
   "id": "fb57ea25",
   "metadata": {},
   "outputs": [],
   "source": [
    "# Create and fit the DecisionTreeClassifier\n",
    "dtree = DecisionTreeClassifier()\n",
    "dtree = dtree.fit(X, y)\n",
    "# Plot and save the tree\n",
    "tree.plot_tree(dtree, feature_names=features)\n",
    "plt.savefig('tree.png')"
   ]
  },
  {
   "cell_type": "code",
   "execution_count": 9,
   "id": "321994c9",
   "metadata": {},
   "outputs": [
    {
     "data": {
      "image/png": "[encoded data removed]",
      "text/plain": [
       "<IPython.core.display.Image object>"
      ]
     },
     "metadata": {},
     "output_type": "display_data"
    }
   ],
   "source": [
    "from IPython.display import Image, display\n",
    "image_path = './tree.png'\n",
    "display(Image(filename=image_path))"
   ]
  }
 ],
 "metadata": {
  "kernelspec": {
   "display_name": "Python 3 (ipykernel)",
   "language": "python",
   "name": "python3"
  },
  "language_info": {
   "codemirror_mode": {
    "name": "ipython",
    "version": 3
   },
   "file_extension": ".py",
   "mimetype": "text/x-python",
   "name": "python",
   "nbconvert_exporter": "python",
   "pygments_lexer": "ipython3",
   "version": "3.10.0"
  }
 },
 "nbformat": 4,
 "nbformat_minor": 5
}
